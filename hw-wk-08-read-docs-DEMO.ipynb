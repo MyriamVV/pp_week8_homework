{
 "cells": [
  {
   "cell_type": "markdown",
   "id": "81b82f1c",
   "metadata": {},
   "source": [
    "# Unstructured ----> Structured \n",
    "\n",
    "The zipped documents folder for this week contains a mix of document types. For **only** the documents that hold the name of journalists and key data points associated with them, do the following:\n",
    "\n",
    "1. Write a script that reads each relevant document and gathers:\n",
    "- The Name of the journalist\n",
    "- Article headline\n",
    "- Name of publication\n",
    "- Dateline\n",
    "\n",
    "2. Export these data points to a ```.csv``` file\n",
    "\n",
    "\n",
    "Note: I do not want the text associated with these jouralists.\n"
   ]
  },
  {
   "cell_type": "code",
   "execution_count": 1,
   "id": "700be097",
   "metadata": {},
   "outputs": [],
   "source": [
    "## create more cells as needed."
   ]
  },
  {
   "cell_type": "code",
   "execution_count": 1,
   "id": "6fa8c408",
   "metadata": {},
   "outputs": [],
   "source": [
    "from bs4 import BeautifulSoup  ## scrape info from web pages\n",
    "import requests ## get web pages from server\n",
    "import time # time is required. we will use its sleep function\n",
    "from random import randrange # generate random numbers\n",
    "from icecream import ic\n",
    "# from google.colab import files ## code for downloading in google colab\n",
    "import pandas as pd ## to export csv file\n",
    "import itertools ## import itertools\n",
    "import wget\n",
    "import glob"
   ]
  },
  {
   "cell_type": "code",
   "execution_count": 2,
   "id": "e6e7e234",
   "metadata": {},
   "outputs": [
    {
     "data": {
      "text/plain": [
       "['docs/some-docs-06.txt',\n",
       " 'docs/some-docs-07.txt',\n",
       " 'docs/some-docs-05.txt',\n",
       " 'docs/some-docs-04.txt',\n",
       " 'docs/some-docs-10.txt',\n",
       " 'docs/some-docs-01.txt',\n",
       " 'docs/some-docs-03.txt',\n",
       " 'docs/some-docs-02.txt',\n",
       " 'docs/some-docs-09.txt',\n",
       " 'docs/some-docs-08.txt']"
      ]
     },
     "execution_count": 2,
     "metadata": {},
     "output_type": "execute_result"
    }
   ],
   "source": [
    "x = glob.glob(\"docs/some-docs*.txt\")\n",
    "x"
   ]
  },
  {
   "cell_type": "code",
   "execution_count": 4,
   "id": "20c43d09",
   "metadata": {},
   "outputs": [
    {
     "name": "stdout",
     "output_type": "stream",
     "text": [
      "<class '_io.TextIOWrapper'>\n"
     ]
    }
   ],
   "source": [
    "with open(\"docs/some-docs-01.txt\", \"r\") as my_text:\n",
    "    print(type(my_text))"
   ]
  },
  {
   "cell_type": "code",
   "execution_count": 5,
   "id": "c865d7cd",
   "metadata": {},
   "outputs": [],
   "source": [
    "file_name = \"docs/some-docs-01.txt\""
   ]
  },
  {
   "cell_type": "code",
   "execution_count": 6,
   "id": "2a486c54",
   "metadata": {},
   "outputs": [
    {
     "name": "stdout",
     "output_type": "stream",
     "text": [
      "Name: Peter Schjeldahl\n",
      "\n",
      "Article: The Mysteries of Mondrian\n",
      "\n",
      "Outlet: The New Yorker\n",
      "\n",
      "Date: September 26, 2022\n",
      "\n",
      "A newly translated biography excavates the enigmatic genius of the Dutch modernist who reduced painting’s whats and hows to a rock-bottom why.\n",
      "\n",
      "\n"
     ]
    }
   ],
   "source": [
    "with open(file_name, \"r\") as my_text:\n",
    "    print(my_text.read())"
   ]
  },
  {
   "cell_type": "code",
   "execution_count": 12,
   "id": "28208562",
   "metadata": {},
   "outputs": [],
   "source": [
    "with open(file_name, \"r\") as my_text:\n",
    "    all_text_list = my_text.readlines()\n",
    "    "
   ]
  },
  {
   "cell_type": "code",
   "execution_count": 13,
   "id": "596293eb",
   "metadata": {},
   "outputs": [
    {
     "data": {
      "text/plain": [
       "['Name: Peter Schjeldahl\\n',\n",
       " '\\n',\n",
       " 'Article: The Mysteries of Mondrian\\n',\n",
       " '\\n',\n",
       " 'Outlet: The New Yorker\\n',\n",
       " '\\n',\n",
       " 'Date: September 26, 2022\\n',\n",
       " '\\n',\n",
       " 'A newly translated biography excavates the enigmatic genius of the Dutch modernist who reduced painting’s whats and hows to a rock-bottom why.\\n',\n",
       " '\\n']"
      ]
     },
     "execution_count": 13,
     "metadata": {},
     "output_type": "execute_result"
    }
   ],
   "source": [
    "all_text_list"
   ]
  },
  {
   "cell_type": "code",
   "execution_count": 15,
   "id": "03836753",
   "metadata": {},
   "outputs": [
    {
     "data": {
      "text/plain": [
       "'Name: Peter Schjeldahl\\n'"
      ]
     },
     "execution_count": 15,
     "metadata": {},
     "output_type": "execute_result"
    }
   ],
   "source": [
    "name = all_text_list [0]\n",
    "name"
   ]
  },
  {
   "cell_type": "code",
   "execution_count": 17,
   "id": "f537c9b4",
   "metadata": {},
   "outputs": [
    {
     "data": {
      "text/plain": [
       "'Article: The Mysteries of Mondrian\\n'"
      ]
     },
     "execution_count": 17,
     "metadata": {},
     "output_type": "execute_result"
    }
   ],
   "source": [
    "article = all_text_list [2]\n",
    "article"
   ]
  },
  {
   "cell_type": "code",
   "execution_count": 18,
   "id": "7f59f658",
   "metadata": {},
   "outputs": [
    {
     "data": {
      "text/plain": [
       "'Outlet: The New Yorker\\n'"
      ]
     },
     "execution_count": 18,
     "metadata": {},
     "output_type": "execute_result"
    }
   ],
   "source": [
    "outlet = all_text_list [4]\n",
    "outlet"
   ]
  },
  {
   "cell_type": "code",
   "execution_count": 19,
   "id": "2c0a91e4",
   "metadata": {},
   "outputs": [
    {
     "data": {
      "text/plain": [
       "'Date: September 26, 2022\\n'"
      ]
     },
     "execution_count": 19,
     "metadata": {},
     "output_type": "execute_result"
    }
   ],
   "source": [
    "date = all_text_list [6]\n",
    "date"
   ]
  },
  {
   "cell_type": "code",
   "execution_count": null,
   "id": "5f64af61",
   "metadata": {},
   "outputs": [],
   "source": [
    "# All texts"
   ]
  },
  {
   "cell_type": "code",
   "execution_count": 23,
   "id": "ca1a021a",
   "metadata": {},
   "outputs": [
    {
     "data": {
      "text/plain": [
       "['docs/some-docs-01.txt',\n",
       " 'docs/some-docs-02.txt',\n",
       " 'docs/some-docs-03.txt',\n",
       " 'docs/some-docs-04.txt',\n",
       " 'docs/some-docs-05.txt',\n",
       " 'docs/some-docs-06.txt',\n",
       " 'docs/some-docs-07.txt',\n",
       " 'docs/some-docs-08.txt',\n",
       " 'docs/some-docs-09.txt',\n",
       " 'docs/some-docs-10.txt']"
      ]
     },
     "execution_count": 23,
     "metadata": {},
     "output_type": "execute_result"
    }
   ],
   "source": [
    "all_files = sorted(glob.glob(\"docs/some-docs*.txt\"))\n",
    "all_files\n"
   ]
  },
  {
   "cell_type": "code",
   "execution_count": 24,
   "id": "491bf21a",
   "metadata": {},
   "outputs": [
    {
     "name": "stdout",
     "output_type": "stream",
     "text": [
      "docs/some-docs-01.txt\n",
      "['Name: Peter Schjeldahl\\n', '\\n', 'Article: The Mysteries of Mondrian\\n', '\\n', 'Outlet: The New Yorker\\n', '\\n', 'Date: September 26, 2022\\n', '\\n', 'A newly translated biography excavates the enigmatic genius of the Dutch modernist who reduced painting’s whats and hows to a rock-bottom why.\\n', '\\n']\n",
      "docs/some-docs-02.txt\n",
      "['Name: Somini Sengupta\\n', '\\n', 'Article: Inside the Global Effort to Keep Perfectly Good Food Out of the Dump\\n', '\\n', 'Outlet: The New York Times\\n', '\\n', 'Date: Oct. 13, 2022\\n', '\\n', '\\n', 'In Seoul, garbage cans automatically weigh how much food gets tossed in the trash. In London, grocers have stopped putting date labels on fruits and vegetables to reduce confusion about what is still edible. California now requires supermarkets to give away — not throw away — food that is unsold but fine to eat.\\n', '\\n', 'Around the world, a broad array of efforts are being launched to tackle two pressing global problems: hunger and climate change.\\n', '\\n']\n",
      "docs/some-docs-03.txt\n",
      "['Name: Jason L. Riley\\n', '\\n', 'Article: The GOP’s 2022 Midterm Slate Is More Diverse Than Ever\\n', '\\n', 'Outlet: The Wall Street Journal\\n', '\\n', 'Date: Oct. 26, 2022\\n', '\\n', '\\n', 'Democrats face a double whammy in next month’s midterm elections. The latest polls show Republicans regaining control of the House and possibly even winning a majority in the Senate. Equally disconcerting to liberals, these gains could come in a year when the GOP is fielding a historically diverse slate of candidates.\\n', '\\n', '\\n', '\\n']\n",
      "docs/some-docs-04.txt\n",
      "['Name: Nikole Hannah-Jones\\n', '\\n', 'Article: What is owed\\n', '\\n', 'Outlet: The New York Times\\n', '\\n', 'Date: June 30, 2020\\n', '\\n', '\\n', 'If true justice and equality are ever to be achieved in the United States, the country must finally take seriously what it owes black Americans.\\n', '\\n', '\\n', '\\n']\n",
      "docs/some-docs-05.txt\n",
      "['Name: Donald James\\n', '\\n', 'Article: Is City Council Ready to Vote “Yes” on Restaurant Grading Ordinance for Detroit?\\n', '\\n', 'Outlet: Michigan Chronicle\\n', '\\n', 'Date: Oct. 20, 2022\\n', '\\n', '\\n', 'If Detroit City Council member Scott Benson has his way, there will be a resounding “yes” vote by his colleagues in the coming days for his proposed Restaurant Grading Ordinance (RGO). With enough “yes” votes, Detroit will become the first city in Michigan to implement a “color-coded health inspection grading system” for restaurants, joining New York, Pittsburgh, Los Angeles, San Diego, Seattle, Toronto, and other municipalities that Benson said Detroit competes with for talent, tourism dollars, and conventions.  Yet, just over a month ago, Council voted “no” on RGO but left the door open for a future vote.   \\n', '\\n', '\\n']\n",
      "docs/some-docs-06.txt\n",
      "['Name: Lisa Armstrong\\n', '\\n', 'Article: A mother watches helplessly as her teenage boy deteriorates in a Texas youth prison\\n', '\\n', 'Outlet: Texas Tribune\\n', '\\n', 'Date: Aug. 3, 2022\\n', '\\n', '\\n', 'The state of Texas has essentially controlled her son’s life since he was 11. The Texas Juvenile Justice Department was supposed to keep him safe and help him get better. It has failed at every turn.\\n', '\\n', '\\n', '\\n']\n",
      "docs/some-docs-07.txt\n",
      "['Name: Maria Mendez\\n', '\\n', 'Article: Early voting has started in Texas. Here are your rights at the polls.\\n', '\\n', 'Outlet: Texas Tribune\\n', '\\n', 'Date: Oct. 24, 2022\\n', '\\n', 'Early voting runs from Monday, Oct. 24, to Friday, Nov. 4. The last day to apply to vote by mail is Friday, Oct. 28. Election Day is Tuesday, Nov. 8.\\n', '\\n', '\\n', '\\n', '\\n', '\\n']\n",
      "docs/some-docs-08.txt\n",
      "['Name: Candace Pedraza\\n', '\\n', 'Article: Disabled New Yorkers Face Off With MTA Over Dropped Mask Mandate\\n', '\\n', 'Outlet: The City\\n', '\\n', 'Date: Sept. 22, 2022\\n', '\\n', 'The transit agency’s flippant new signs deliver poor public health messaging, disability advocates charge\\n', '\\n', '\\n', '\\n', '\\n', '\\n']\n",
      "docs/some-docs-09.txt\n",
      "['Name: André Beganski\\n', '\\n', 'Article: Indictment Against Former OpenSea Employee Moves Forward\\n', '\\n', 'Outlet: Decrypt\\n', '\\n', 'Date: Oct. 23, 2022\\n', '\\n', 'A judge has denied the defendant’s motion to dismiss wire fraud and money laundering charges.\\n', '\\n', '\\n', '\\n', '\\n', '\\n']\n",
      "docs/some-docs-10.txt\n",
      "['Name: Karen Juanita Carrillo\\n', '\\n', 'Article: Plaque unveiled for African American suffragists in Brooklyn\\n', '\\n', 'Outlet: Amsterdam News\\n', '\\n', 'Date: Oct. 20, 2022\\n', '\\n', 'Voting rights struggles are not new for African Americans. On Saturday, Oct. 15, Brooklynites gathered to celebrate four notable women who fought in the early 1900s to ensure that African American women had the right to vote.\\n', '\\n', 'Congress had passed the 14th and 15th amendments granting African Americans U.S. citizenship rights and prohibiting racial discrimination in voting, but neither amendment was being enforced. So activists such as Sarah J.S. Garnet, Mary E. Eato, Dr. Verina Morton-Jones, and Lydia C. Smith formed and served as officers of the Equal Suffrage League (ESL), where they pushed to have Black citizenship opportunities made real.\\n', '\\n', '\\n', '\\n']\n"
     ]
    }
   ],
   "source": [
    "for text_file in all_files:\n",
    "    print(text_file)\n",
    "    with open(text_file, \"r\") as my_text:\n",
    "        all_text = my_text.readlines()\n",
    "        print(all_text)\n",
    "#             first_line = my_text.readline()\n",
    "#             print(first_line)\n",
    "        \n",
    "# first_line\n"
   ]
  },
  {
   "cell_type": "code",
   "execution_count": 26,
   "id": "fecfb727",
   "metadata": {},
   "outputs": [
    {
     "name": "stdout",
     "output_type": "stream",
     "text": [
      "docs/some-docs-01.txt\n",
      "docs/some-docs-02.txt\n",
      "docs/some-docs-03.txt\n",
      "docs/some-docs-04.txt\n",
      "docs/some-docs-05.txt\n",
      "docs/some-docs-06.txt\n",
      "docs/some-docs-07.txt\n",
      "docs/some-docs-08.txt\n",
      "docs/some-docs-09.txt\n",
      "docs/some-docs-10.txt\n"
     ]
    }
   ],
   "source": [
    "journalists = []\n",
    "\n",
    "for text_file in all_files:\n",
    "    print(text_file)\n",
    "    with open(text_file, \"r\") as my_text:\n",
    "        all_text = my_text.readlines()\n",
    "        name = all_text[0].replace(\"Name: \", \"\").replace(\"\\n\", \"\")\n",
    "        article = all_text[2].replace(\"Article: \", \"\").replace(\"\\n\", \"\")\n",
    "        outlet = all_text[4].replace(\"Outlet: \", \"\").replace(\"\\n\", \"\")\n",
    "        date = all_text[6].replace(\"Date: \", \"\").replace(\"\\n\", \"\")\n",
    "        journalist_dict = {\"Journalist\": name,\n",
    "                        \"Article\": article,\n",
    "                        \"Outlet\": outlet,\n",
    "                        \"Date\": date}\n",
    "#         print(decision_dict)\n",
    "        journalists.append(journalist_dict)"
   ]
  },
  {
   "cell_type": "code",
   "execution_count": 27,
   "id": "08558263",
   "metadata": {},
   "outputs": [
    {
     "data": {
      "text/plain": [
       "[{'Journalist': 'Peter Schjeldahl',\n",
       "  'Article': 'The Mysteries of Mondrian',\n",
       "  'Outlet': 'The New Yorker',\n",
       "  'Date': 'September 26, 2022'},\n",
       " {'Journalist': 'Somini Sengupta',\n",
       "  'Article': 'Inside the Global Effort to Keep Perfectly Good Food Out of the Dump',\n",
       "  'Outlet': 'The New York Times',\n",
       "  'Date': 'Oct. 13, 2022'},\n",
       " {'Journalist': 'Jason L. Riley',\n",
       "  'Article': 'The GOP’s 2022 Midterm Slate Is More Diverse Than Ever',\n",
       "  'Outlet': 'The Wall Street Journal',\n",
       "  'Date': 'Oct. 26, 2022'},\n",
       " {'Journalist': 'Nikole Hannah-Jones',\n",
       "  'Article': 'What is owed',\n",
       "  'Outlet': 'The New York Times',\n",
       "  'Date': 'June 30, 2020'},\n",
       " {'Journalist': 'Donald James',\n",
       "  'Article': 'Is City Council Ready to Vote “Yes” on Restaurant Grading Ordinance for Detroit?',\n",
       "  'Outlet': 'Michigan Chronicle',\n",
       "  'Date': 'Oct. 20, 2022'},\n",
       " {'Journalist': 'Lisa Armstrong',\n",
       "  'Article': 'A mother watches helplessly as her teenage boy deteriorates in a Texas youth prison',\n",
       "  'Outlet': 'Texas Tribune',\n",
       "  'Date': 'Aug. 3, 2022'},\n",
       " {'Journalist': 'Maria Mendez',\n",
       "  'Article': 'Early voting has started in Texas. Here are your rights at the polls.',\n",
       "  'Outlet': 'Texas Tribune',\n",
       "  'Date': 'Oct. 24, 2022'},\n",
       " {'Journalist': 'Candace Pedraza',\n",
       "  'Article': 'Disabled New Yorkers Face Off With MTA Over Dropped Mask Mandate',\n",
       "  'Outlet': 'The City',\n",
       "  'Date': 'Sept. 22, 2022'},\n",
       " {'Journalist': 'André Beganski',\n",
       "  'Article': 'Indictment Against Former OpenSea Employee Moves Forward',\n",
       "  'Outlet': 'Decrypt',\n",
       "  'Date': 'Oct. 23, 2022'},\n",
       " {'Journalist': 'Karen Juanita Carrillo',\n",
       "  'Article': 'Plaque unveiled for African American suffragists in Brooklyn',\n",
       "  'Outlet': 'Amsterdam News',\n",
       "  'Date': 'Oct. 20, 2022'}]"
      ]
     },
     "execution_count": 27,
     "metadata": {},
     "output_type": "execute_result"
    }
   ],
   "source": [
    "journalists"
   ]
  },
  {
   "cell_type": "code",
   "execution_count": 28,
   "id": "234a3d22",
   "metadata": {},
   "outputs": [
    {
     "data": {
      "text/html": [
       "<div>\n",
       "<style scoped>\n",
       "    .dataframe tbody tr th:only-of-type {\n",
       "        vertical-align: middle;\n",
       "    }\n",
       "\n",
       "    .dataframe tbody tr th {\n",
       "        vertical-align: top;\n",
       "    }\n",
       "\n",
       "    .dataframe thead th {\n",
       "        text-align: right;\n",
       "    }\n",
       "</style>\n",
       "<table border=\"1\" class=\"dataframe\">\n",
       "  <thead>\n",
       "    <tr style=\"text-align: right;\">\n",
       "      <th></th>\n",
       "      <th>Journalist</th>\n",
       "      <th>Article</th>\n",
       "      <th>Outlet</th>\n",
       "      <th>Date</th>\n",
       "    </tr>\n",
       "  </thead>\n",
       "  <tbody>\n",
       "    <tr>\n",
       "      <th>0</th>\n",
       "      <td>Peter Schjeldahl</td>\n",
       "      <td>The Mysteries of Mondrian</td>\n",
       "      <td>The New Yorker</td>\n",
       "      <td>September 26, 2022</td>\n",
       "    </tr>\n",
       "    <tr>\n",
       "      <th>1</th>\n",
       "      <td>Somini Sengupta</td>\n",
       "      <td>Inside the Global Effort to Keep Perfectly Goo...</td>\n",
       "      <td>The New York Times</td>\n",
       "      <td>Oct. 13, 2022</td>\n",
       "    </tr>\n",
       "    <tr>\n",
       "      <th>2</th>\n",
       "      <td>Jason L. Riley</td>\n",
       "      <td>The GOP’s 2022 Midterm Slate Is More Diverse T...</td>\n",
       "      <td>The Wall Street Journal</td>\n",
       "      <td>Oct. 26, 2022</td>\n",
       "    </tr>\n",
       "    <tr>\n",
       "      <th>3</th>\n",
       "      <td>Nikole Hannah-Jones</td>\n",
       "      <td>What is owed</td>\n",
       "      <td>The New York Times</td>\n",
       "      <td>June 30, 2020</td>\n",
       "    </tr>\n",
       "    <tr>\n",
       "      <th>4</th>\n",
       "      <td>Donald James</td>\n",
       "      <td>Is City Council Ready to Vote “Yes” on Restaur...</td>\n",
       "      <td>Michigan Chronicle</td>\n",
       "      <td>Oct. 20, 2022</td>\n",
       "    </tr>\n",
       "    <tr>\n",
       "      <th>5</th>\n",
       "      <td>Lisa Armstrong</td>\n",
       "      <td>A mother watches helplessly as her teenage boy...</td>\n",
       "      <td>Texas Tribune</td>\n",
       "      <td>Aug. 3, 2022</td>\n",
       "    </tr>\n",
       "    <tr>\n",
       "      <th>6</th>\n",
       "      <td>Maria Mendez</td>\n",
       "      <td>Early voting has started in Texas. Here are yo...</td>\n",
       "      <td>Texas Tribune</td>\n",
       "      <td>Oct. 24, 2022</td>\n",
       "    </tr>\n",
       "    <tr>\n",
       "      <th>7</th>\n",
       "      <td>Candace Pedraza</td>\n",
       "      <td>Disabled New Yorkers Face Off With MTA Over Dr...</td>\n",
       "      <td>The City</td>\n",
       "      <td>Sept. 22, 2022</td>\n",
       "    </tr>\n",
       "    <tr>\n",
       "      <th>8</th>\n",
       "      <td>André Beganski</td>\n",
       "      <td>Indictment Against Former OpenSea Employee Mov...</td>\n",
       "      <td>Decrypt</td>\n",
       "      <td>Oct. 23, 2022</td>\n",
       "    </tr>\n",
       "    <tr>\n",
       "      <th>9</th>\n",
       "      <td>Karen Juanita Carrillo</td>\n",
       "      <td>Plaque unveiled for African American suffragis...</td>\n",
       "      <td>Amsterdam News</td>\n",
       "      <td>Oct. 20, 2022</td>\n",
       "    </tr>\n",
       "  </tbody>\n",
       "</table>\n",
       "</div>"
      ],
      "text/plain": [
       "               Journalist                                            Article  \\\n",
       "0        Peter Schjeldahl                          The Mysteries of Mondrian   \n",
       "1         Somini Sengupta  Inside the Global Effort to Keep Perfectly Goo...   \n",
       "2          Jason L. Riley  The GOP’s 2022 Midterm Slate Is More Diverse T...   \n",
       "3     Nikole Hannah-Jones                                       What is owed   \n",
       "4            Donald James  Is City Council Ready to Vote “Yes” on Restaur...   \n",
       "5          Lisa Armstrong  A mother watches helplessly as her teenage boy...   \n",
       "6            Maria Mendez  Early voting has started in Texas. Here are yo...   \n",
       "7         Candace Pedraza  Disabled New Yorkers Face Off With MTA Over Dr...   \n",
       "8          André Beganski  Indictment Against Former OpenSea Employee Mov...   \n",
       "9  Karen Juanita Carrillo  Plaque unveiled for African American suffragis...   \n",
       "\n",
       "                    Outlet                Date  \n",
       "0           The New Yorker  September 26, 2022  \n",
       "1       The New York Times       Oct. 13, 2022  \n",
       "2  The Wall Street Journal       Oct. 26, 2022  \n",
       "3       The New York Times       June 30, 2020  \n",
       "4       Michigan Chronicle       Oct. 20, 2022  \n",
       "5            Texas Tribune        Aug. 3, 2022  \n",
       "6            Texas Tribune       Oct. 24, 2022  \n",
       "7                 The City      Sept. 22, 2022  \n",
       "8                  Decrypt       Oct. 23, 2022  \n",
       "9           Amsterdam News       Oct. 20, 2022  "
      ]
     },
     "execution_count": 28,
     "metadata": {},
     "output_type": "execute_result"
    }
   ],
   "source": [
    "df = pd.DataFrame(journalists)\n",
    "df"
   ]
  },
  {
   "cell_type": "code",
   "execution_count": 29,
   "id": "199793af",
   "metadata": {},
   "outputs": [],
   "source": [
    "df.to_csv(\"journalists.csv\", encoding = \"UTF-8\", index = False)"
   ]
  },
  {
   "cell_type": "code",
   "execution_count": null,
   "id": "305ea6a1",
   "metadata": {},
   "outputs": [],
   "source": []
  }
 ],
 "metadata": {
  "kernelspec": {
   "display_name": "Python 3 (ipykernel)",
   "language": "python",
   "name": "python3"
  },
  "language_info": {
   "codemirror_mode": {
    "name": "ipython",
    "version": 3
   },
   "file_extension": ".py",
   "mimetype": "text/x-python",
   "name": "python",
   "nbconvert_exporter": "python",
   "pygments_lexer": "ipython3",
   "version": "3.9.7"
  }
 },
 "nbformat": 4,
 "nbformat_minor": 5
}
